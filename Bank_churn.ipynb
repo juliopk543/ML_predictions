{
  "nbformat": 4,
  "nbformat_minor": 0,
  "metadata": {
    "colab": {
      "name": "Bank_churn.ipynb",
      "provenance": [],
      "collapsed_sections": [
        "yhHiBGhoQzEY",
        "5INfp-6oPrMl",
        "T8U1G8vOlsfa",
        "-XQX8S9VnaaS"
      ]
    },
    "kernelspec": {
      "name": "python3",
      "display_name": "Python 3"
    },
    "language_info": {
      "name": "python"
    }
  },
  "cells": [
    {
      "cell_type": "markdown",
      "source": [
        "---\n",
        "\n",
        "# **Atividade** | Bank Customers Churn\n",
        "Aluno [Vinicius](https://www.linkedin.com/in/andremarcosperez/)\n",
        "\n",
        "---"
      ],
      "metadata": {
        "id": "ahjePKjYoczm"
      }
    },
    {
      "cell_type": "markdown",
      "source": [
        "**DESCRIÇÃO DOS ATRIBUTOS:**"
      ],
      "metadata": {
        "id": "6NR8Qf-g--Rs"
      }
    },
    {
      "cell_type": "markdown",
      "source": [
        "* **RowNumber** —corresponde ao número do registro (linha) e não tem efeito na saída.\n",
        "* **CustomerId** —contém valores aleatórios e não tem efeito na saída do cliente do banco.\n",
        "* **Surname** —o sobrenome de um cliente não tem impacto em sua decisão de deixar o banco. **OK**\n",
        "* **CreditScore** —pode afetar o churn de clientes, uma vez que um cliente com uma pontuação de crédito mais alta tem menos probabilidade de sair do banco. **OK**\n",
        "* **Geography** —a localização de um cliente pode afetar sua decisão de deixar o banco. **OK**\n",
        "* **Gender** —é interessante explorar se o gênero desempenha um papel na saída de um cliente do banco. **OK**\n",
        "* **Age** —isso é certamente relevante, uma vez que os clientes mais velhos são menos propensos a deixar o banco do que os mais jovens. **OK**\n",
        "* **Tenure** —refere-se ao número de anos em que o cliente é cliente do banco. Normalmente, os clientes mais velhos são mais fiéis e menos propensos a deixar um banco. **OK**\n",
        "* **Balance** —também um indicador muito bom de rotatividade de clientes, pois as pessoas com saldo mais alto em suas contas têm menos probabilidade de sair do banco em comparação com aquelas com saldos mais baixos. **OK**\n",
        "* **NumOfProducts** —refere-se ao número de produtos que um cliente comprou através do banco. **OK**\n",
        "* **HasCrCard** —denota se um cliente tem ou não um cartão de crédito. Essa coluna também é relevante, pois as pessoas com cartão de crédito são menos propensas a sair do banco. **OK**\n",
        "* **IsActiveMember** —clientes ativos são menos propensos a deixar o banco. **OK**\n",
        "* **EstimatedSalary** —assim como no equilíbrio, as pessoas com salários mais baixos são mais propensas a sair do banco em comparação com aquelas com salários mais altos. **OK**\n",
        "* **Exited** —se o cliente saiu ou não do banco. **OK**\n"
      ],
      "metadata": {
        "id": "DHzZFBOI-R18"
      }
    },
    {
      "cell_type": "markdown",
      "source": [
        "## 1\\. ETL - (Extração - Tratamento - Limpeza)"
      ],
      "metadata": {
        "id": "yhHiBGhoQzEY"
      }
    },
    {
      "cell_type": "markdown",
      "source": [
        "### 1.1\\. Extração"
      ],
      "metadata": {
        "id": "Ea5kVG16RPqT"
      }
    },
    {
      "cell_type": "code",
      "execution_count": 1,
      "metadata": {
        "id": "Q0CWGDxp1ue6"
      },
      "outputs": [],
      "source": [
        "import pandas as pd "
      ]
    },
    {
      "cell_type": "code",
      "source": [
        "df_1 = pd.read_csv('Bank_Churn_Test_1.csv')\n",
        "df_2 = pd.read_csv('Bank_Churn_Test_2.csv')"
      ],
      "metadata": {
        "id": "xicdglUt1-1F"
      },
      "execution_count": 102,
      "outputs": []
    },
    {
      "cell_type": "code",
      "source": [
        "df_1.head()"
      ],
      "metadata": {
        "id": "qZbfgTMJ5kvW"
      },
      "execution_count": null,
      "outputs": []
    },
    {
      "cell_type": "code",
      "source": [
        "df_2.head()"
      ],
      "metadata": {
        "id": "Gnfxz5_o9lrg"
      },
      "execution_count": null,
      "outputs": []
    },
    {
      "cell_type": "code",
      "source": [
        "df_2.shape, df_1.shape"
      ],
      "metadata": {
        "colab": {
          "base_uri": "https://localhost:8080/"
        },
        "id": "KJNiZw2GB11_",
        "outputId": "3242a101-8621-47b4-ff5a-db1d328426ab"
      },
      "execution_count": 36,
      "outputs": [
        {
          "output_type": "execute_result",
          "data": {
            "text/plain": [
              "((10000, 4), (10000, 12))"
            ]
          },
          "metadata": {},
          "execution_count": 36
        }
      ]
    },
    {
      "cell_type": "code",
      "source": [
        "dataset_origin =  pd.merge(df_2, df_1,  on=[\"CustomerId\", \"RowNumber\"])\n",
        "dataset_origin.head()"
      ],
      "metadata": {
        "colab": {
          "base_uri": "https://localhost:8080/",
          "height": 206
        },
        "id": "SkrXxp47BbPB",
        "outputId": "55f41461-66b0-4c05-de8b-0cc3c9f5854c"
      },
      "execution_count": 103,
      "outputs": [
        {
          "output_type": "execute_result",
          "data": {
            "text/plain": [
              "   RowNumber  CustomerId  Gender   Age   Surname CreditScore Geography  \\\n",
              "0          1    15634602  Female  42.0  Hargrave         619    France   \n",
              "1          2    15647311  Female  41.0      Hill         608     Spain   \n",
              "2          3    15619304  Female  42.0      Onio         502    France   \n",
              "3          4    15701354  Female  39.0      Boni         699    France   \n",
              "4          5    15737888  Female  43.0  Mitchell         850     Spain   \n",
              "\n",
              "   Tenure    Balance  NumOfProducts  HasCrCard  IsActiveMember  \\\n",
              "0     2.0       0.00              1          1               1   \n",
              "1     1.0   83807.86              1          0               1   \n",
              "2     8.0  159660.80              3          1               0   \n",
              "3     1.0       0.00              2          0               0   \n",
              "4     2.0  125510.82              1          1               1   \n",
              "\n",
              "   EstimatedSalary  Exited  \n",
              "0        101348.88       1  \n",
              "1        112542.58       0  \n",
              "2        113931.57       1  \n",
              "3         93826.63       0  \n",
              "4         79084.10       0  "
            ],
            "text/html": [
              "\n",
              "  <div id=\"df-6f2ba8c3-0360-4b83-8fad-ef72fbe14860\">\n",
              "    <div class=\"colab-df-container\">\n",
              "      <div>\n",
              "<style scoped>\n",
              "    .dataframe tbody tr th:only-of-type {\n",
              "        vertical-align: middle;\n",
              "    }\n",
              "\n",
              "    .dataframe tbody tr th {\n",
              "        vertical-align: top;\n",
              "    }\n",
              "\n",
              "    .dataframe thead th {\n",
              "        text-align: right;\n",
              "    }\n",
              "</style>\n",
              "<table border=\"1\" class=\"dataframe\">\n",
              "  <thead>\n",
              "    <tr style=\"text-align: right;\">\n",
              "      <th></th>\n",
              "      <th>RowNumber</th>\n",
              "      <th>CustomerId</th>\n",
              "      <th>Gender</th>\n",
              "      <th>Age</th>\n",
              "      <th>Surname</th>\n",
              "      <th>CreditScore</th>\n",
              "      <th>Geography</th>\n",
              "      <th>Tenure</th>\n",
              "      <th>Balance</th>\n",
              "      <th>NumOfProducts</th>\n",
              "      <th>HasCrCard</th>\n",
              "      <th>IsActiveMember</th>\n",
              "      <th>EstimatedSalary</th>\n",
              "      <th>Exited</th>\n",
              "    </tr>\n",
              "  </thead>\n",
              "  <tbody>\n",
              "    <tr>\n",
              "      <th>0</th>\n",
              "      <td>1</td>\n",
              "      <td>15634602</td>\n",
              "      <td>Female</td>\n",
              "      <td>42.0</td>\n",
              "      <td>Hargrave</td>\n",
              "      <td>619</td>\n",
              "      <td>France</td>\n",
              "      <td>2.0</td>\n",
              "      <td>0.00</td>\n",
              "      <td>1</td>\n",
              "      <td>1</td>\n",
              "      <td>1</td>\n",
              "      <td>101348.88</td>\n",
              "      <td>1</td>\n",
              "    </tr>\n",
              "    <tr>\n",
              "      <th>1</th>\n",
              "      <td>2</td>\n",
              "      <td>15647311</td>\n",
              "      <td>Female</td>\n",
              "      <td>41.0</td>\n",
              "      <td>Hill</td>\n",
              "      <td>608</td>\n",
              "      <td>Spain</td>\n",
              "      <td>1.0</td>\n",
              "      <td>83807.86</td>\n",
              "      <td>1</td>\n",
              "      <td>0</td>\n",
              "      <td>1</td>\n",
              "      <td>112542.58</td>\n",
              "      <td>0</td>\n",
              "    </tr>\n",
              "    <tr>\n",
              "      <th>2</th>\n",
              "      <td>3</td>\n",
              "      <td>15619304</td>\n",
              "      <td>Female</td>\n",
              "      <td>42.0</td>\n",
              "      <td>Onio</td>\n",
              "      <td>502</td>\n",
              "      <td>France</td>\n",
              "      <td>8.0</td>\n",
              "      <td>159660.80</td>\n",
              "      <td>3</td>\n",
              "      <td>1</td>\n",
              "      <td>0</td>\n",
              "      <td>113931.57</td>\n",
              "      <td>1</td>\n",
              "    </tr>\n",
              "    <tr>\n",
              "      <th>3</th>\n",
              "      <td>4</td>\n",
              "      <td>15701354</td>\n",
              "      <td>Female</td>\n",
              "      <td>39.0</td>\n",
              "      <td>Boni</td>\n",
              "      <td>699</td>\n",
              "      <td>France</td>\n",
              "      <td>1.0</td>\n",
              "      <td>0.00</td>\n",
              "      <td>2</td>\n",
              "      <td>0</td>\n",
              "      <td>0</td>\n",
              "      <td>93826.63</td>\n",
              "      <td>0</td>\n",
              "    </tr>\n",
              "    <tr>\n",
              "      <th>4</th>\n",
              "      <td>5</td>\n",
              "      <td>15737888</td>\n",
              "      <td>Female</td>\n",
              "      <td>43.0</td>\n",
              "      <td>Mitchell</td>\n",
              "      <td>850</td>\n",
              "      <td>Spain</td>\n",
              "      <td>2.0</td>\n",
              "      <td>125510.82</td>\n",
              "      <td>1</td>\n",
              "      <td>1</td>\n",
              "      <td>1</td>\n",
              "      <td>79084.10</td>\n",
              "      <td>0</td>\n",
              "    </tr>\n",
              "  </tbody>\n",
              "</table>\n",
              "</div>\n",
              "      <button class=\"colab-df-convert\" onclick=\"convertToInteractive('df-6f2ba8c3-0360-4b83-8fad-ef72fbe14860')\"\n",
              "              title=\"Convert this dataframe to an interactive table.\"\n",
              "              style=\"display:none;\">\n",
              "        \n",
              "  <svg xmlns=\"http://www.w3.org/2000/svg\" height=\"24px\"viewBox=\"0 0 24 24\"\n",
              "       width=\"24px\">\n",
              "    <path d=\"M0 0h24v24H0V0z\" fill=\"none\"/>\n",
              "    <path d=\"M18.56 5.44l.94 2.06.94-2.06 2.06-.94-2.06-.94-.94-2.06-.94 2.06-2.06.94zm-11 1L8.5 8.5l.94-2.06 2.06-.94-2.06-.94L8.5 2.5l-.94 2.06-2.06.94zm10 10l.94 2.06.94-2.06 2.06-.94-2.06-.94-.94-2.06-.94 2.06-2.06.94z\"/><path d=\"M17.41 7.96l-1.37-1.37c-.4-.4-.92-.59-1.43-.59-.52 0-1.04.2-1.43.59L10.3 9.45l-7.72 7.72c-.78.78-.78 2.05 0 2.83L4 21.41c.39.39.9.59 1.41.59.51 0 1.02-.2 1.41-.59l7.78-7.78 2.81-2.81c.8-.78.8-2.07 0-2.86zM5.41 20L4 18.59l7.72-7.72 1.47 1.35L5.41 20z\"/>\n",
              "  </svg>\n",
              "      </button>\n",
              "      \n",
              "  <style>\n",
              "    .colab-df-container {\n",
              "      display:flex;\n",
              "      flex-wrap:wrap;\n",
              "      gap: 12px;\n",
              "    }\n",
              "\n",
              "    .colab-df-convert {\n",
              "      background-color: #E8F0FE;\n",
              "      border: none;\n",
              "      border-radius: 50%;\n",
              "      cursor: pointer;\n",
              "      display: none;\n",
              "      fill: #1967D2;\n",
              "      height: 32px;\n",
              "      padding: 0 0 0 0;\n",
              "      width: 32px;\n",
              "    }\n",
              "\n",
              "    .colab-df-convert:hover {\n",
              "      background-color: #E2EBFA;\n",
              "      box-shadow: 0px 1px 2px rgba(60, 64, 67, 0.3), 0px 1px 3px 1px rgba(60, 64, 67, 0.15);\n",
              "      fill: #174EA6;\n",
              "    }\n",
              "\n",
              "    [theme=dark] .colab-df-convert {\n",
              "      background-color: #3B4455;\n",
              "      fill: #D2E3FC;\n",
              "    }\n",
              "\n",
              "    [theme=dark] .colab-df-convert:hover {\n",
              "      background-color: #434B5C;\n",
              "      box-shadow: 0px 1px 3px 1px rgba(0, 0, 0, 0.15);\n",
              "      filter: drop-shadow(0px 1px 2px rgba(0, 0, 0, 0.3));\n",
              "      fill: #FFFFFF;\n",
              "    }\n",
              "  </style>\n",
              "\n",
              "      <script>\n",
              "        const buttonEl =\n",
              "          document.querySelector('#df-6f2ba8c3-0360-4b83-8fad-ef72fbe14860 button.colab-df-convert');\n",
              "        buttonEl.style.display =\n",
              "          google.colab.kernel.accessAllowed ? 'block' : 'none';\n",
              "\n",
              "        async function convertToInteractive(key) {\n",
              "          const element = document.querySelector('#df-6f2ba8c3-0360-4b83-8fad-ef72fbe14860');\n",
              "          const dataTable =\n",
              "            await google.colab.kernel.invokeFunction('convertToInteractive',\n",
              "                                                     [key], {});\n",
              "          if (!dataTable) return;\n",
              "\n",
              "          const docLinkHtml = 'Like what you see? Visit the ' +\n",
              "            '<a target=\"_blank\" href=https://colab.research.google.com/notebooks/data_table.ipynb>data table notebook</a>'\n",
              "            + ' to learn more about interactive tables.';\n",
              "          element.innerHTML = '';\n",
              "          dataTable['output_type'] = 'display_data';\n",
              "          await google.colab.output.renderOutput(dataTable, element);\n",
              "          const docLink = document.createElement('div');\n",
              "          docLink.innerHTML = docLinkHtml;\n",
              "          element.appendChild(docLink);\n",
              "        }\n",
              "      </script>\n",
              "    </div>\n",
              "  </div>\n",
              "  "
            ]
          },
          "metadata": {},
          "execution_count": 103
        }
      ]
    },
    {
      "cell_type": "code",
      "source": [
        "dataset_origin.info()"
      ],
      "metadata": {
        "colab": {
          "base_uri": "https://localhost:8080/"
        },
        "id": "gApWwTAqDSvf",
        "outputId": "c63e1517-c06a-4c34-de14-6ba7665beaa1"
      },
      "execution_count": 104,
      "outputs": [
        {
          "output_type": "stream",
          "name": "stdout",
          "text": [
            "<class 'pandas.core.frame.DataFrame'>\n",
            "Int64Index: 10000 entries, 0 to 9999\n",
            "Data columns (total 14 columns):\n",
            " #   Column           Non-Null Count  Dtype  \n",
            "---  ------           --------------  -----  \n",
            " 0   RowNumber        10000 non-null  int64  \n",
            " 1   CustomerId       10000 non-null  int64  \n",
            " 2   Gender           9999 non-null   object \n",
            " 3   Age              9999 non-null   float64\n",
            " 4   Surname          9999 non-null   object \n",
            " 5   CreditScore      10000 non-null  object \n",
            " 6   Geography        9999 non-null   object \n",
            " 7   Tenure           9999 non-null   float64\n",
            " 8   Balance          10000 non-null  float64\n",
            " 9   NumOfProducts    10000 non-null  int64  \n",
            " 10  HasCrCard        10000 non-null  int64  \n",
            " 11  IsActiveMember   10000 non-null  int64  \n",
            " 12  EstimatedSalary  10000 non-null  float64\n",
            " 13  Exited           10000 non-null  int64  \n",
            "dtypes: float64(4), int64(6), object(4)\n",
            "memory usage: 1.1+ MB\n"
          ]
        }
      ]
    },
    {
      "cell_type": "markdown",
      "source": [
        "### 2.1\\. Tratamento"
      ],
      "metadata": {
        "id": "4eVXeQgbRSiI"
      }
    },
    {
      "cell_type": "markdown",
      "source": [
        "\n",
        "> Seguindo as recomendações na descrição dos atributos irei remover as colunas que não são relevantes.\n",
        "\n",
        "\n"
      ],
      "metadata": {
        "id": "1Wh1kViKCec6"
      }
    },
    {
      "cell_type": "code",
      "source": [
        "dataset = dataset_origin.drop(['RowNumber', 'CustomerId', 'Surname'], axis=1).dropna()"
      ],
      "metadata": {
        "id": "frcnONE6Coqw"
      },
      "execution_count": 105,
      "outputs": []
    },
    {
      "cell_type": "markdown",
      "source": [
        "* Convertedo colunas categóricas presentes no dataset ( pd.get_dummies )."
      ],
      "metadata": {
        "id": "ImzWL35DFV2N"
      }
    },
    {
      "cell_type": "code",
      "source": [
        "dataset['Geography'].unique(), dataset['Gender'].unique()"
      ],
      "metadata": {
        "colab": {
          "base_uri": "https://localhost:8080/"
        },
        "id": "rA3x9s_yEYuO",
        "outputId": "429586f3-cf7f-41ab-9fa9-5823a20ed43a"
      },
      "execution_count": 106,
      "outputs": [
        {
          "output_type": "execute_result",
          "data": {
            "text/plain": [
              "(array(['France', 'Spain', 'Germany'], dtype=object),\n",
              " array(['Female', 'Male'], dtype=object))"
            ]
          },
          "metadata": {},
          "execution_count": 106
        }
      ]
    },
    {
      "cell_type": "code",
      "source": [
        "dataset =  pd.get_dummies(dataset,  columns=['Geography', 'Gender']).iloc[:,1:]"
      ],
      "metadata": {
        "id": "BvrBHNAADcVC"
      },
      "execution_count": 107,
      "outputs": []
    },
    {
      "cell_type": "markdown",
      "source": [
        "* Convertendo a coluna CreditScore type Object."
      ],
      "metadata": {
        "id": "B8dwrfAiO8CS"
      }
    },
    {
      "cell_type": "code",
      "source": [
        "dataset.info()"
      ],
      "metadata": {
        "colab": {
          "base_uri": "https://localhost:8080/"
        },
        "id": "xcU35Um_LH56",
        "outputId": "b0dd6850-85e7-4077-b1f2-e4e94abc50e4"
      },
      "execution_count": 108,
      "outputs": [
        {
          "output_type": "stream",
          "name": "stdout",
          "text": [
            "<class 'pandas.core.frame.DataFrame'>\n",
            "Int64Index: 9999 entries, 0 to 9999\n",
            "Data columns (total 13 columns):\n",
            " #   Column             Non-Null Count  Dtype  \n",
            "---  ------             --------------  -----  \n",
            " 0   CreditScore        9999 non-null   object \n",
            " 1   Tenure             9999 non-null   float64\n",
            " 2   Balance            9999 non-null   float64\n",
            " 3   NumOfProducts      9999 non-null   int64  \n",
            " 4   HasCrCard          9999 non-null   int64  \n",
            " 5   IsActiveMember     9999 non-null   int64  \n",
            " 6   EstimatedSalary    9999 non-null   float64\n",
            " 7   Exited             9999 non-null   int64  \n",
            " 8   Geography_France   9999 non-null   uint8  \n",
            " 9   Geography_Germany  9999 non-null   uint8  \n",
            " 10  Geography_Spain    9999 non-null   uint8  \n",
            " 11  Gender_Female      9999 non-null   uint8  \n",
            " 12  Gender_Male        9999 non-null   uint8  \n",
            "dtypes: float64(3), int64(4), object(1), uint8(5)\n",
            "memory usage: 751.9+ KB\n"
          ]
        }
      ]
    },
    {
      "cell_type": "code",
      "source": [
        "dataset.CreditScore\t= pd.to_numeric(dataset.CreditScore, errors=\"coerce\").fillna(0).astype(int)"
      ],
      "metadata": {
        "id": "jjByvN_TMk3x"
      },
      "execution_count": 109,
      "outputs": []
    },
    {
      "cell_type": "code",
      "source": [
        "dataset.info()"
      ],
      "metadata": {
        "colab": {
          "base_uri": "https://localhost:8080/"
        },
        "id": "f-u1_dgKELv6",
        "outputId": "b8406e1b-8bfb-476a-c25f-4f154cf78eda"
      },
      "execution_count": 111,
      "outputs": [
        {
          "output_type": "stream",
          "name": "stdout",
          "text": [
            "<class 'pandas.core.frame.DataFrame'>\n",
            "Int64Index: 9999 entries, 0 to 9999\n",
            "Data columns (total 13 columns):\n",
            " #   Column             Non-Null Count  Dtype  \n",
            "---  ------             --------------  -----  \n",
            " 0   CreditScore        9999 non-null   int64  \n",
            " 1   Tenure             9999 non-null   float64\n",
            " 2   Balance            9999 non-null   float64\n",
            " 3   NumOfProducts      9999 non-null   int64  \n",
            " 4   HasCrCard          9999 non-null   int64  \n",
            " 5   IsActiveMember     9999 non-null   int64  \n",
            " 6   EstimatedSalary    9999 non-null   float64\n",
            " 7   Exited             9999 non-null   int64  \n",
            " 8   Geography_France   9999 non-null   uint8  \n",
            " 9   Geography_Germany  9999 non-null   uint8  \n",
            " 10  Geography_Spain    9999 non-null   uint8  \n",
            " 11  Gender_Female      9999 non-null   uint8  \n",
            " 12  Gender_Male        9999 non-null   uint8  \n",
            "dtypes: float64(3), int64(5), uint8(5)\n",
            "memory usage: 751.9 KB\n"
          ]
        }
      ]
    },
    {
      "cell_type": "markdown",
      "source": [
        "## 2\\. ML - (Machine learning)"
      ],
      "metadata": {
        "id": "5INfp-6oPrMl"
      }
    },
    {
      "cell_type": "markdown",
      "source": [
        "*  Pré-processamento de dados"
      ],
      "metadata": {
        "id": "ME4NM3RuTwWy"
      }
    },
    {
      "cell_type": "code",
      "source": [
        "X =  dataset.drop(['Exited'], axis=1)\n",
        "y = dataset['Exited']"
      ],
      "metadata": {
        "id": "MjPJAzLDPo0V"
      },
      "execution_count": 112,
      "outputs": []
    },
    {
      "cell_type": "markdown",
      "source": [
        "### 2.1\\. Avaliação de algoritmos de aprendizado de máquina."
      ],
      "metadata": {
        "id": "hKE55S64T2Md"
      }
    },
    {
      "cell_type": "markdown",
      "source": [
        "* RandomForestClassifier"
      ],
      "metadata": {
        "id": "q8icGl6nYfwB"
      }
    },
    {
      "cell_type": "markdown",
      "source": [
        "\n",
        "\n",
        "> As Árvores de Decisão, ou Decision Trees, estabelecem regras para tomada de decisão. O algoritmo criará uma estrutura similar a um fluxograma, com “nós” onde uma condição é verificada, e se atendida o fluxo segue por um ramo, caso contrário, por outro, sempre levando ao próximo nó, até a finalização da árvore.\n",
        "**Fonte:** ([link](https://didatica.tech/o-que-e-e-como-funciona-o-algoritmo-randomforest/)).\n",
        "\n"
      ],
      "metadata": {
        "id": "FQpOW8VIXt1g"
      }
    },
    {
      "cell_type": "code",
      "source": [
        "from sklearn.model_selection import train_test_split\n",
        "from sklearn.ensemble import RandomForestClassifier\n",
        "from sklearn.metrics import classification_report, accuracy_score\n",
        "\n",
        "resultado_forest = []\n",
        "\n",
        "for i in range(30):\n",
        "  X_train, X_test, y_train, y_test = train_test_split(X, y, test_size = 0.2, random_state = i, stratify=y)\n",
        "\n",
        "  classifier = RandomForestClassifier()\n",
        "  classifier.fit(X_train, y_train)\n",
        "  resultado_forest.append(accuracy_score(y_test, classifier.predict(X_test)))"
      ],
      "metadata": {
        "id": "PBixqAXRQAwo"
      },
      "execution_count": 117,
      "outputs": []
    },
    {
      "cell_type": "code",
      "source": [
        "print(resultado_forest)"
      ],
      "metadata": {
        "colab": {
          "base_uri": "https://localhost:8080/"
        },
        "id": "ISrzU9dkWH4h",
        "outputId": "ce2aee36-f2d3-4e54-f6f8-058b794532a0"
      },
      "execution_count": 118,
      "outputs": [
        {
          "output_type": "stream",
          "name": "stdout",
          "text": [
            "[0.817, 0.8105, 0.821, 0.82, 0.813, 0.8195, 0.822, 0.821, 0.818, 0.8205, 0.8205, 0.826, 0.8285, 0.8145, 0.817, 0.8275, 0.815, 0.8235, 0.8185, 0.814, 0.8265, 0.8325, 0.8175, 0.8205, 0.829, 0.8255, 0.8205, 0.8315, 0.82, 0.822]\n"
          ]
        }
      ]
    },
    {
      "cell_type": "markdown",
      "source": [
        "* GaussianNB\n"
      ],
      "metadata": {
        "id": "u-FkO_JLYlnl"
      }
    },
    {
      "cell_type": "markdown",
      "source": [
        "\n",
        "\n",
        "> É uma técnica de classificação baseado no teorema de Bayes com uma suposição de independência entre os preditores. Em termos simples, um classificador Naive Bayes assume que a presença de uma característica particular em uma classe não está relacionada com a presença de qualquer outro recurso. \n",
        "**Fonte:** ([link](https://www.vooo.pro/insights/6-passos-faceis-para-aprender-o-algoritmo-naive-bayes-com-o-codigo-em-python/)).\n",
        "\n"
      ],
      "metadata": {
        "id": "poSPAWjAY9bM"
      }
    },
    {
      "cell_type": "code",
      "source": [
        "from sklearn.naive_bayes import GaussianNB\n",
        "\n",
        "resultado_naive_bayes = []\n",
        "\n",
        "for i in range(30):\n",
        "  X_train, X_test, y_train, y_test = train_test_split(X, y, test_size = 0.2, random_state = i, stratify=y)\n",
        "\n",
        "  naive_bayes = GaussianNB()\n",
        "  naive_bayes.fit(X_train, y_train)\n",
        "  resultado_naive_bayes.append(accuracy_score(y_test, naive_bayes.predict(X_test)))"
      ],
      "metadata": {
        "id": "KjSPYnXTWwwd"
      },
      "execution_count": 119,
      "outputs": []
    },
    {
      "cell_type": "code",
      "source": [
        "print(resultado_naive_bayes)"
      ],
      "metadata": {
        "colab": {
          "base_uri": "https://localhost:8080/"
        },
        "id": "VIN7bgteXa4e",
        "outputId": "5a1d5b81-0eed-4ed1-90cd-4cd7ee76f84f"
      },
      "execution_count": 120,
      "outputs": [
        {
          "output_type": "stream",
          "name": "stdout",
          "text": [
            "[0.7965, 0.7965, 0.7965, 0.7965, 0.7965, 0.7965, 0.7965, 0.7965, 0.7965, 0.7965, 0.7965, 0.7965, 0.7965, 0.7965, 0.7965, 0.7965, 0.7965, 0.7965, 0.7965, 0.796, 0.7965, 0.796, 0.7965, 0.7965, 0.796, 0.7965, 0.7965, 0.7965, 0.7965, 0.7965]\n"
          ]
        }
      ]
    },
    {
      "cell_type": "markdown",
      "source": [
        "#### 2.2\\. Comparação de perfomance."
      ],
      "metadata": {
        "id": "-4axqA2FT641"
      }
    },
    {
      "cell_type": "code",
      "source": [
        "import numpy as np\n",
        "from scipy import stats\n",
        "import math\n",
        "\n",
        "resultado_naive_bayes = np.array(resultado_naive_bayes)\n",
        "resultado_forest = np.array(resultado_forest)"
      ],
      "metadata": {
        "id": "Dy33dJNnQN0V"
      },
      "execution_count": 123,
      "outputs": []
    },
    {
      "cell_type": "markdown",
      "source": [
        "* Media dos resultados "
      ],
      "metadata": {
        "id": "MDMeN1Tubi7a"
      }
    },
    {
      "cell_type": "code",
      "source": [
        "resultado_forest.mean(), resultado_naive_bayes.mean() "
      ],
      "metadata": {
        "colab": {
          "base_uri": "https://localhost:8080/"
        },
        "id": "k5VrY91iaPbr",
        "outputId": "719497a1-d824-4d24-f201-cbafe7367caf"
      },
      "execution_count": 124,
      "outputs": [
        {
          "output_type": "execute_result",
          "data": {
            "text/plain": [
              "(0.8210999999999999, 0.7964500000000003)"
            ]
          },
          "metadata": {},
          "execution_count": 124
        }
      ]
    },
    {
      "cell_type": "markdown",
      "source": [
        "* Moda dos resultados"
      ],
      "metadata": {
        "id": "rn5qmU_Rb-hn"
      }
    },
    {
      "cell_type": "markdown",
      "source": [
        "\n",
        "\n",
        "> Notamos ao lado direito a consistencia da taxa de acerto preditiva.\n",
        "Onde RandonForest com (4) se mostrou menos consistente que os resultados de NaiveBayes... \n",
        "\n"
      ],
      "metadata": {
        "id": "_PLH-MkRcbwi"
      }
    },
    {
      "cell_type": "code",
      "source": [
        "stats.mode(resultado_forest), stats.mode(resultado_naive_bayes)"
      ],
      "metadata": {
        "colab": {
          "base_uri": "https://localhost:8080/"
        },
        "id": "_N7wIjaKb98o",
        "outputId": "98d561fc-9e6c-42d3-a9f1-6a98c16c58d7"
      },
      "execution_count": 125,
      "outputs": [
        {
          "output_type": "execute_result",
          "data": {
            "text/plain": [
              "(ModeResult(mode=array([0.8205]), count=array([4])),\n",
              " ModeResult(mode=array([0.7965]), count=array([27])))"
            ]
          },
          "metadata": {},
          "execution_count": 125
        }
      ]
    },
    {
      "cell_type": "markdown",
      "source": [
        "* Variância"
      ],
      "metadata": {
        "id": "DCa0wO8rcsRA"
      }
    },
    {
      "cell_type": "markdown",
      "source": [
        "\n",
        "\n",
        "> Para averiguar essa inconsistencia verifiquei as taxas de devio dentro do resultado e foi avaliado que:\n",
        "\n",
        "**RandomForest** - Tem a maior media de acerto acima de 80%\n",
        "\n",
        "**NaiveBayes** - Tem a consistencia maior nos resultados em comparação, mas a media de acertos de 79%\n",
        "\n"
      ],
      "metadata": {
        "id": "1lXqpAzPeBY6"
      }
    },
    {
      "cell_type": "code",
      "source": [
        "np.set_printoptions(suppress=True)\n",
        "np.var(resultado_forest),np.var(resultado_naive_bayes)"
      ],
      "metadata": {
        "colab": {
          "base_uri": "https://localhost:8080/"
        },
        "id": "hGZJyvxJc9-w",
        "outputId": "7f48aab2-72a3-4f84-b43c-e5d3b8e422fd"
      },
      "execution_count": 126,
      "outputs": [
        {
          "output_type": "execute_result",
          "data": {
            "text/plain": [
              "(2.8490000000000125e-05, 2.2499999999995037e-08)"
            ]
          },
          "metadata": {},
          "execution_count": 126
        }
      ]
    },
    {
      "cell_type": "code",
      "source": [
        "np.min([2.8490000000000125e-05, 2.2499999999995037e-08])"
      ],
      "metadata": {
        "colab": {
          "base_uri": "https://localhost:8080/"
        },
        "id": "rAdteE7tdXod",
        "outputId": "dc592f58-15b8-4e0e-f5e3-eada40cbb294"
      },
      "execution_count": 127,
      "outputs": [
        {
          "output_type": "execute_result",
          "data": {
            "text/plain": [
              "2.2499999999995037e-08"
            ]
          },
          "metadata": {},
          "execution_count": 127
        }
      ]
    },
    {
      "cell_type": "markdown",
      "source": [
        "* Desvio padrão"
      ],
      "metadata": {
        "id": "AqIqVB9weuck"
      }
    },
    {
      "cell_type": "code",
      "source": [
        "np.std(resultado_forest), np.std(resultado_naive_bayes)"
      ],
      "metadata": {
        "colab": {
          "base_uri": "https://localhost:8080/"
        },
        "id": "JRDi3tRzex9d",
        "outputId": "928e0179-4651-48d0-f7b6-a565b98d6248"
      },
      "execution_count": 128,
      "outputs": [
        {
          "output_type": "execute_result",
          "data": {
            "text/plain": [
              "(0.005337602458033019, 0.00014999999999998345)"
            ]
          },
          "metadata": {},
          "execution_count": 128
        }
      ]
    },
    {
      "cell_type": "code",
      "source": [
        "np.min([0.005337602458033019, 0.00014999999999998345])"
      ],
      "metadata": {
        "colab": {
          "base_uri": "https://localhost:8080/"
        },
        "id": "XPit1pD9e6co",
        "outputId": "4dc10cc1-c39e-490f-9139-a053494c2bd1"
      },
      "execution_count": 129,
      "outputs": [
        {
          "output_type": "execute_result",
          "data": {
            "text/plain": [
              "0.00014999999999998345"
            ]
          },
          "metadata": {},
          "execution_count": 129
        }
      ]
    },
    {
      "cell_type": "markdown",
      "source": [
        "* Coeficiente de variação"
      ],
      "metadata": {
        "id": "B0knce7GgT8N"
      }
    },
    {
      "cell_type": "code",
      "source": [
        "stats.variation(resultado_forest) * 100"
      ],
      "metadata": {
        "colab": {
          "base_uri": "https://localhost:8080/"
        },
        "id": "GuLjy-HFgTAF",
        "outputId": "165aa811-ef79-4736-fd1c-f57251767ab6"
      },
      "execution_count": 131,
      "outputs": [
        {
          "output_type": "execute_result",
          "data": {
            "text/plain": [
              "0.6500551038890536"
            ]
          },
          "metadata": {},
          "execution_count": 131
        }
      ]
    },
    {
      "cell_type": "markdown",
      "source": [
        "### 2.3\\. Validação cruzada"
      ],
      "metadata": {
        "id": "k5JLbSifT_sa"
      }
    },
    {
      "cell_type": "markdown",
      "source": [
        "A técnica de validação cruzada serve para avaliar modelos de ML por meio de treinamento de vários modelos de ML em subconjuntos de dados de entrada disponíveis."
      ],
      "metadata": {
        "id": "j9U55cIjkGlr"
      }
    },
    {
      "cell_type": "code",
      "source": [
        "X =  dataset.drop(['Exited'], axis=1)\n",
        "y = dataset['Exited']"
      ],
      "metadata": {
        "id": "sQ429KfPhrk1"
      },
      "execution_count": 132,
      "outputs": []
    },
    {
      "cell_type": "code",
      "source": [
        "from sklearn.model_selection import cross_val_score, KFold\n",
        "\n",
        "resultado_forest_cv = []\n",
        "\n",
        "for i in range(30):\n",
        "  kfold = KFold(n_splits= 10, shuffle = True, random_state=i)\n",
        "\n",
        "  random_forest = RandomForestClassifier()\n",
        "  scores = cross_val_score(random_forest, X, y, cv= kfold)\n",
        "  resultado_forest_cv.append(scores.mean())"
      ],
      "metadata": {
        "id": "siJjMjl8QTzB"
      },
      "execution_count": 136,
      "outputs": []
    },
    {
      "cell_type": "markdown",
      "source": [
        "* Media"
      ],
      "metadata": {
        "id": "bEzhmHf7lHB2"
      }
    },
    {
      "cell_type": "code",
      "source": [
        "print(resultado_forest_cv)"
      ],
      "metadata": {
        "colab": {
          "base_uri": "https://localhost:8080/"
        },
        "id": "pAfL0N7ClGM6",
        "outputId": "f696a2dc-4e3f-454f-f3e8-4d1ae69dd257"
      },
      "execution_count": 137,
      "outputs": [
        {
          "output_type": "stream",
          "name": "stdout",
          "text": [
            "[0.8189814814814813, 0.821983883883884, 0.8182838838838838, 0.8188814814814815, 0.8223814814814814, 0.8190814814814814, 0.8179827827827827, 0.820782182182182, 0.8212811811811811, 0.8201843843843845, 0.8218804804804805, 0.8179818818818818, 0.8203835835835835, 0.819081981981982, 0.8197818818818818, 0.8196832832832834, 0.8203830830830832, 0.8219825825825826, 0.8203814814814814, 0.8207820820820821, 0.819282982982983, 0.8189825825825826, 0.8202842842842843, 0.8207829829829828, 0.8186796796796795, 0.8223840840840841, 0.8177820820820821, 0.8199811811811811, 0.8203832832832834, 0.8230837837837838]\n"
          ]
        }
      ]
    },
    {
      "cell_type": "markdown",
      "source": [
        "### 2.4\\. Diminuição da dispersão media utilizando a técnica de variação cruzada no modelo RandomForest."
      ],
      "metadata": {
        "id": "g4mH7xXukzE-"
      }
    },
    {
      "cell_type": "markdown",
      "source": [
        "\n",
        "\n",
        "> Utilizando a técnica de variação cruzada, conseguimos diminuir a variação do modelo RandomForest\n",
        "\n"
      ],
      "metadata": {
        "id": "sFOyvTJ-kehW"
      }
    },
    {
      "cell_type": "markdown",
      "source": [
        "* Coeficiente de variação"
      ],
      "metadata": {
        "id": "_eLjfGlokUr7"
      }
    },
    {
      "cell_type": "code",
      "source": [
        "stats.variation(resultado_forest_cv) * 100, stats.variation(resultado_forest) * 100"
      ],
      "metadata": {
        "colab": {
          "base_uri": "https://localhost:8080/"
        },
        "id": "gXA98TikjoNz",
        "outputId": "be97c36b-d07f-40b3-a4f4-a8003d9cc3df"
      },
      "execution_count": 138,
      "outputs": [
        {
          "output_type": "execute_result",
          "data": {
            "text/plain": [
              "(0.1715654968879453, 0.6500551038890536)"
            ]
          },
          "metadata": {},
          "execution_count": 138
        }
      ]
    },
    {
      "cell_type": "markdown",
      "source": [
        "* Desvio padrão"
      ],
      "metadata": {
        "id": "g6PH8wYSllst"
      }
    },
    {
      "cell_type": "code",
      "source": [
        "np.std(resultado_forest_cv), np.std(resultado_forest)"
      ],
      "metadata": {
        "colab": {
          "base_uri": "https://localhost:8080/"
        },
        "id": "AQUGxi9QlkwI",
        "outputId": "da242e6f-c415-4e94-f793-8ed6b50126ac"
      },
      "execution_count": 139,
      "outputs": [
        {
          "output_type": "execute_result",
          "data": {
            "text/plain": [
              "(0.0014070528737649747, 0.005337602458033019)"
            ]
          },
          "metadata": {},
          "execution_count": 139
        }
      ]
    },
    {
      "cell_type": "markdown",
      "source": [
        "## 3\\. Final: visualização da perda de clientes:"
      ],
      "metadata": {
        "id": "T8U1G8vOlsfa"
      }
    },
    {
      "cell_type": "markdown",
      "source": [
        "\n",
        "\n",
        "> Com base nesses dados, podemos ver que o salario tem o maior impacto no churn de clientes, seguido pelo Score de credito e Saldo. Recomendaria uma avaliação no modelo de score usado pelo banco para fornecer credito para os seus clientes, talvez não esteja sendo tão eficiente\n",
        "\n"
      ],
      "metadata": {
        "id": "bGzelJezmEtz"
      }
    },
    {
      "cell_type": "code",
      "source": [
        "feat_importances = pd.Series(classifier.feature_importances_, index=X.columns)\n",
        "feat_importances.nlargest(10).plot(kind='barh')"
      ],
      "metadata": {
        "colab": {
          "base_uri": "https://localhost:8080/",
          "height": 283
        },
        "id": "oisSUVgvQe2i",
        "outputId": "114eb73b-ae4e-4322-97af-f74a44d8520f"
      },
      "execution_count": 116,
      "outputs": [
        {
          "output_type": "execute_result",
          "data": {
            "text/plain": [
              "<matplotlib.axes._subplots.AxesSubplot at 0x7f402c0adc90>"
            ]
          },
          "metadata": {},
          "execution_count": 116
        },
        {
          "output_type": "display_data",
          "data": {
            "text/plain": [
              "<Figure size 432x288 with 1 Axes>"
            ],
            "image/png": "[encoded data removed]"
          },
          "metadata": {
            "needs_background": "light"
          }
        }
      ]
    },
    {
      "cell_type": "markdown",
      "source": [
        "## 4\\. Simulando uma extração em caso de fonte API."
      ],
      "metadata": {
        "id": "-XQX8S9VnaaS"
      }
    },
    {
      "cell_type": "code",
      "source": [
        "import requests\n",
        "\n",
        "resposta = requests.get('http://www.Bank_Churn.com')\n",
        "print(resposta.status_code)"
      ],
      "metadata": {
        "id": "41SoaLF7nkLL"
      },
      "execution_count": null,
      "outputs": []
    },
    {
      "cell_type": "code",
      "source": [
        "import requests\n",
        "from requests.exceptions import HTTPError\n",
        "\n",
        "\n",
        "conteudo = None\n",
        "URL = 'http://www.Bank_Churn.com/API'\n",
        "\n",
        "\n",
        "try:\n",
        " resposta = requests.get(URL)\n",
        " resposta.raise_for_status()\n",
        "except HTTPError as exc:\n",
        " print(exc)\n",
        "else:\n",
        " conteudo = resposta.text\n",
        "print(conteudo)"
      ],
      "metadata": {
        "id": "lDcPRtgQnv1g"
      },
      "execution_count": null,
      "outputs": []
    }
  ]
}